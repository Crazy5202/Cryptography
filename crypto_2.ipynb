{
 "cells": [
  {
   "cell_type": "code",
   "execution_count": 1,
   "id": "d25cca70",
   "metadata": {},
   "outputs": [
    {
     "name": "stdout",
     "output_type": "stream",
     "text": [
      "Хеш СТРИБОГ-256: 4d37c3e98abcb2e6cc56f8d5a0af2ed7d299ecaf584e29c3e80b8279128321ac\n",
      "Последние 8 бит (в десятичном виде): 172\n"
     ]
    }
   ],
   "source": [
    "from gostcrypto import gosthash\n",
    "\n",
    "def stribog_hash(text: str, ver: int) -> bytearray:\n",
    "    \"\"\"Хэширует переданную информацию, возвращает в шестнадцатеричном виде.\"\"\"\n",
    "    data = text.encode('utf-8')\n",
    "    \n",
    "    hash_obj = gosthash.new(f'streebog{ver}')   \n",
    "    hash_obj.update(data)\n",
    "    \n",
    "    digest = hash_obj.digest()\n",
    "    \n",
    "    return digest\n",
    "\n",
    "def last_8_bits_to_decimal(hash_bytes: bytearray) -> int:\n",
    "    \"\"\"Берёт последние 8 бит хэша, возвращается десятичное число.\"\"\"\n",
    "    last_byte = hash_bytes[-1]\n",
    "    \n",
    "    return last_byte\n",
    "\n",
    "versions = [256, 512]\n",
    "\n",
    "version = versions[0]\n",
    "string = 'Куценко Максим Дмитриевич'\n",
    "\n",
    "hash_result = stribog_hash(string, version)\n",
    "print(f\"Хеш СТРИБОГ-{version}: {hash_result.hex()}\")\n",
    "\n",
    "last_8bits_decimal = last_8_bits_to_decimal(hash_result)\n",
    "print(f\"Последние 8 бит (в десятичном виде): {last_8bits_decimal}\")\n"
   ]
  },
  {
   "cell_type": "code",
   "execution_count": 11,
   "id": "189d1b64",
   "metadata": {},
   "outputs": [],
   "source": [
    "num1 = \"75341247309932956297336550866743980331043265092982120187073554769218057691931\"\n",
    "num2 = \"32317006071311007300714876688669951960444102669715484032130345427524655138867890893197201411522913463688717960921898019494119559150490921095088152565770690186514871445256391286228468924624775182806688621818511606928538181487853136918021034281638821909495315476178119034242159243009523704988544684930867669064316170210446143540756612231687358682313156451903396988464739614296385406222973194399597476215910216600940021891277137285884818810964974220589106935034369975408148255542000214094688551613986871894872434546153518097111946396434185136884476456133147791332873290167324145755748349897130325517610189572710677169853\""
   ]
  },
  {
   "cell_type": "code",
   "execution_count": 12,
   "id": "880ced7b",
   "metadata": {},
   "outputs": [
    {
     "name": "stdout",
     "output_type": "stream",
     "text": [
      "Степень экспоненты числа итераций для первого числа: 32.30919742268606\n",
      "Степень экспоненты числа итераций для второго числа: 81.01768563908983\n",
      "Степень экспоненты отношения числа итераций: 48.70848821640377\n",
      "\n",
      "Для второго числа факторизация будет проходить 203345029479828.0 лет\n"
     ]
    }
   ],
   "source": [
    "import math\n",
    "\n",
    "def calc_iters(num_str: str) -> int:\n",
    "    n = int(num_str)\n",
    "    return (64/9)**(1/3) * (math.log(n)**(1/3) * math.log(math.log(n))**(2/3))\n",
    "\n",
    "first_time = 4.5\n",
    "\n",
    "ans1 = calc_iters(num1)\n",
    "ans2 = calc_iters(num2)\n",
    "diff = ans2-ans1\n",
    "print(f\"Степень экспоненты числа итераций для первого числа: {ans1}\")\n",
    "print(f\"Степень экспоненты числа итераций для второго числа: {ans2}\")\n",
    "print(f\"Степень экспоненты отношения числа итераций: {diff}\")\n",
    "print(f\"\\nДля второго числа факторизация будет проходить {first_time * math.exp(diff) / 3600 / 24 / 365} лет\")"
   ]
  }
 ],
 "metadata": {
  "kernelspec": {
   "display_name": "base",
   "language": "python",
   "name": "python3"
  },
  "language_info": {
   "codemirror_mode": {
    "name": "ipython",
    "version": 3
   },
   "file_extension": ".py",
   "mimetype": "text/x-python",
   "name": "python",
   "nbconvert_exporter": "python",
   "pygments_lexer": "ipython3",
   "version": "3.12.4"
  }
 },
 "nbformat": 4,
 "nbformat_minor": 5
}
